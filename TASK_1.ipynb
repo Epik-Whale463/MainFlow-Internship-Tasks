{
 "cells": [
  {
   "cell_type": "markdown",
   "metadata": {},
   "source": [
    "LIST"
   ]
  },
  {
   "cell_type": "code",
   "execution_count": null,
   "metadata": {},
   "outputs": [],
   "source": [
    "#List creation\n",
    "\n",
    "lst = list() # or []\n",
    "print(lst)"
   ]
  },
  {
   "cell_type": "code",
   "execution_count": null,
   "metadata": {},
   "outputs": [],
   "source": [
    "#Operations on List\n",
    "\n",
    "#Appending Elements\n",
    "lst.append(1)\n",
    "lst.append(2)\n",
    "lst.append(3)\n",
    "lst.append(4)\n",
    "print(f\"Created List : {lst}\")\n",
    "\n",
    "#Removing Elements\n",
    "lst.remove(2)\n",
    "lst.pop()\n",
    "print(\"Removing Elements\")\n",
    "print(lst)\n",
    "\n",
    "#Modifying Elements\n",
    "lst[0] = 4\n",
    "lst[1] = 5\n",
    "print(\"Modifying Elements\")\n",
    "print(lst)\n",
    "\n",
    "#Accessing Elements\n",
    "print(f\"Fist element in the list : {lst[0]}\")\n",
    "print(f\"Second element in the list : {lst[1]}\")\n",
    "\n",
    "#Length of List\n",
    "print(f\"Length of the list is : {len(lst)}\")\n",
    "\n",
    "#Clearnin List\n",
    "print(\"Clearning the list\")\n",
    "lst.clear()\n"
   ]
  },
  {
   "cell_type": "code",
   "execution_count": null,
   "metadata": {},
   "outputs": [],
   "source": []
  },
  {
   "cell_type": "markdown",
   "metadata": {},
   "source": [
    "DICTIONARY"
   ]
  },
  {
   "cell_type": "code",
   "execution_count": null,
   "metadata": {},
   "outputs": [],
   "source": [
    "#Dictionary Creation\n",
    "d = dict() # or {}\n",
    "print(d)"
   ]
  },
  {
   "cell_type": "code",
   "execution_count": null,
   "metadata": {},
   "outputs": [],
   "source": [
    "#Operations on Dictionary\n",
    "\n",
    "#Adding Elements\n",
    "d['a'] = 1\n",
    "d['b'] = 2\n",
    "d['c'] = 3\n",
    "d['d'] = 4\n",
    "print(f\"Created Dictionary : {d}\")\n",
    "\n",
    "\n",
    "#Removing Elements\n",
    "del d['a']\n",
    "d.pop('b')\n",
    "print(\"Removing Elements\")\n",
    "print(d)\n",
    "\n",
    "#Modifying Elements\n",
    "d['c'] = 400\n",
    "d['d'] = 555\n",
    "print(\"Modifying Elements\")\n",
    "print(d)\n",
    "\n",
    "#Accessing Elements\n",
    "print(f\"Value of 'c' in the dictionary : {d['c']}\")\n",
    "print(f\"Value of 'd' in the dictionary : {d['d']}\")\n",
    "print(f\"Value of 'e' in the dictionary : {d.get('e', 'Not Found')}\")\n",
    "\n",
    "\n",
    "#Length of Dictionary\n",
    "print(f\"Length of the dictionary is : {len(d)}\")\n",
    "\n",
    "#Clearnin Dictionary\n",
    "print(\"Clearning the dictionary\")\n",
    "d.clear()\n",
    "print(d)\n"
   ]
  },
  {
   "cell_type": "code",
   "execution_count": null,
   "metadata": {},
   "outputs": [],
   "source": []
  },
  {
   "cell_type": "markdown",
   "metadata": {},
   "source": [
    "SET"
   ]
  },
  {
   "cell_type": "code",
   "execution_count": null,
   "metadata": {},
   "outputs": [],
   "source": [
    "#Set Creation\n",
    "s = set() # or {}\n",
    "print(s)"
   ]
  },
  {
   "cell_type": "code",
   "execution_count": null,
   "metadata": {},
   "outputs": [],
   "source": [
    "#Operations on Set\n",
    "\n",
    "#Adding Elements\n",
    "s.add(1)\n",
    "s.add(2)\n",
    "s.add(3)\n",
    "s.add(4)\n",
    "print(f\"Created Set : {s}\")\n",
    "\n",
    "#Removing Elements\n",
    "s.remove(2)\n",
    "s.pop()\n",
    "print(\"Removing Elements\")\n",
    "print(s)\n",
    "\n",
    "#Modifying Elements\n",
    "s.add(4)\n",
    "s.add(5)\n",
    "print(\"Modifying Elements\") \n",
    "print(s)\n",
    "\n",
    "#Accessing Elements\n",
    "print(f\"First element in the set : {list(s)[0]}\")\n",
    "print(f\"Second element in the set : {list(s)[1]}\")\n",
    "\n",
    "#Length of Set\n",
    "print(f\"Length of the set is : {len(s)}\")\n",
    "\n",
    "#Clearnin Set\n",
    "print(\"Clearning the set\")\n",
    "s.clear()\n",
    "print(s)"
   ]
  },
  {
   "cell_type": "markdown",
   "metadata": {},
   "source": [
    "TASK 1 COMPLETED"
   ]
  },
  {
   "cell_type": "markdown",
   "metadata": {},
   "source": []
  }
 ],
 "metadata": {
  "kernelspec": {
   "display_name": "Python 3",
   "language": "python",
   "name": "python3"
  },
  "language_info": {
   "codemirror_mode": {
    "name": "ipython",
    "version": 3
   },
   "file_extension": ".py",
   "mimetype": "text/x-python",
   "name": "python",
   "nbconvert_exporter": "python",
   "pygments_lexer": "ipython3",
   "version": "3.12.3"
  }
 },
 "nbformat": 4,
 "nbformat_minor": 2
}
